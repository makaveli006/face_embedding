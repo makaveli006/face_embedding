{
 "cells": [
  {
   "cell_type": "code",
   "execution_count": 3,
   "metadata": {},
   "outputs": [],
   "source": [
    "import cv2\n",
    "import os\n",
    "import time\n",
    "import numpy as np\n",
    "from PIL import Image\n",
    "from keras.models import load_model\n",
    "from keras.preprocessing import image\n",
    "from scipy.spatial.distance import cosine\n",
    "from keras_facenet import FaceNet\n",
    "import tensorflow as tf"
   ]
  },
  {
   "cell_type": "code",
   "execution_count": 4,
   "metadata": {},
   "outputs": [],
   "source": [
    "def detect_face_roi(image):\n",
    "    # Load the image\n",
    "    # image = cv2.imread('images/test.jpg')\n",
    "\n",
    "    # Load the pre-trained Haar Cascade face detection model\n",
    "    face_cascade = cv2.CascadeClassifier(cv2.data.haarcascades + 'haarcascade_frontalface_default.xml')\n",
    "    # Convert the image to grayscale\n",
    "    gray = cv2.cvtColor(image, cv2.COLOR_BGR2GRAY)\n",
    "\n",
    "    # Detect faces in the image\n",
    "    faces = face_cascade.detectMultiScale(gray, scaleFactor=1.1, minNeighbors=5, minSize=(30, 30))\n",
    "\n",
    "    # Find the largest face or the face closest to a specific point\n",
    "    largest_face = None\n",
    "    closest_face = None\n",
    "    min_distance = float('inf')\n",
    "    for (x, y, w, h) in faces:\n",
    "        center = (x + w//2, y + h//2)\n",
    "        distance = ((center[0] - image.shape[1]//2)**2 + (center[1] - image.shape[0]//2)**2)**0.5\n",
    "        if w * h > (largest_face[2] * largest_face[3] if largest_face is not None else 0):\n",
    "            largest_face = (x, y, w, h)\n",
    "        if distance < min_distance:\n",
    "            closest_face = (x, y, w, h)\n",
    "            min_distance = distance\n",
    "\n",
    "    # Extract the largest or closest face\n",
    "    (x, y, w, h) = largest_face or closest_face\n",
    "    face_roi = image[y:y+h, x:x+w]\n",
    "\n",
    "    # Display the extracted face\n",
    "    # cv2.imshow('Face', face_roi)\n",
    "\n",
    "    # Wait for a key press and then close the window\n",
    "    # cv2.waitKey(0)\n",
    "    # cv2.destroyAllWindows()\n",
    "    # cv2.imwrite('images/detected.jpg',face_roi)\n",
    "    return face_roi"
   ]
  },
  {
   "cell_type": "code",
   "execution_count": 5,
   "metadata": {},
   "outputs": [],
   "source": [
    "def FrameCapture(video_path,output_path):\n",
    "    for file in os.listdir(output_path):\n",
    "        os.remove(f'{output_path}/{file}')\n",
    "    # Path to video file\n",
    "    vidObj = cv2.VideoCapture(video_path)\n",
    "  \n",
    "    # Used as counter variable\n",
    "    count = 0\n",
    "  \n",
    "    # checks whether registration_frames were extracted\n",
    "    success = 1\n",
    "  \n",
    "    while success:\n",
    "  \n",
    "        # vidObj object calls read\n",
    "        # function extract registration_frames\n",
    "        success, image = vidObj.read()\n",
    "        try:\n",
    "            face_roi = detect_face_roi(image)\n",
    "            face_roi_resized = cv2.resize(face_roi,(256,256))\n",
    "        except:\n",
    "            pass\n",
    "        # Saves the registration_frames with frame-count\n",
    "        cv2.imwrite(f\"{output_path}/frame%d.jpg\" % count, face_roi_resized)\n",
    "  \n",
    "        count += 1\n",
    "def SaveFrame(video_path,output_path):\n",
    "    try:\n",
    "        FrameCapture(video_path,output_path)\n",
    "    except:\n",
    "        cap = cv2.VideoCapture(video_path)\n",
    "        length = int(cap.get(cv2.CAP_PROP_FRAME_COUNT))\n",
    "        if(length == len(os.listdir(output_path))):\n",
    "            pass\n",
    "        else:\n",
    "            print('An Error occured during extracting registration_frames.')\n",
    "            print(f'[registration_frames].....{os.listdir(output_path)}registration_frames saved.')"
   ]
  },
  {
   "cell_type": "code",
   "execution_count": 6,
   "metadata": {},
   "outputs": [],
   "source": [
    "def extract_face_embeddings(image_path, model):\n",
    "    # Load and preprocess the image\n",
    "    try:\n",
    "        img = tf.keras.utils.load_img(image_path, target_size=(256, 256))\n",
    "        img = tf.keras.utils.img_to_array(img)\n",
    "    except:\n",
    "        img = cv2.cvtColor(image_path, cv2.COLOR_BGR2RGB)\n",
    "        img = Image.fromarray(img)\n",
    "    img = np.expand_dims(img, axis=0)\n",
    "    img = (img - 127.5) / 128.0\n",
    "    \n",
    "    # Extract the face embeddings\n",
    "    embeddings = model.model.predict(img)\n",
    "    return embeddings[0]\n",
    "\n",
    "def face_similarity_of_two_embeddings(emp1,emp2):\n",
    "\n",
    "    distance = cosine(emp1,emp2)\n",
    "\n",
    "    return distance"
   ]
  },
  {
   "cell_type": "code",
   "execution_count": 7,
   "metadata": {},
   "outputs": [],
   "source": [
    "def get_face_embeddings_(frame_folder,model):\n",
    "    face_embeddings = []\n",
    "    for i in os.listdir(f'{frame_folder}/'):\n",
    "        single_face_embedding = extract_face_embeddings(f'{frame_folder}/{i}',model=model)\n",
    "        face_embeddings.append(single_face_embedding)\n",
    "    return face_embeddings"
   ]
  },
  {
   "cell_type": "code",
   "execution_count": 8,
   "metadata": {},
   "outputs": [],
   "source": [
    "def register_newuser(video_path,output_path,model):\n",
    "    SaveFrame(video_path=video_path,output_path=output_path)\n",
    "    face_embeddings = get_face_embeddings_(frame_folder=output_path,model=model)\n",
    "    return face_embeddings"
   ]
  },
  {
   "cell_type": "code",
   "execution_count": 9,
   "metadata": {},
   "outputs": [],
   "source": [
    "def authenticate_user(video_path,model):\n",
    "    SaveFrame(video_path=video_path,output_path='Images/authentication_frames/')\n",
    "    face_embeddings = get_face_embeddings_(frame_folder='Images/authentication_frames/',model=model)\n",
    "    return face_embeddings"
   ]
  },
  {
   "cell_type": "code",
   "execution_count": 10,
   "metadata": {},
   "outputs": [],
   "source": [
    "def is_user_valid(face_embeddings,auth_embeddings):\n",
    "    total_score = []\n",
    "    for i in face_embeddings:\n",
    "        for j in auth_embeddings:\n",
    "            similarity = face_similarity_of_two_embeddings(i,j)\n",
    "            total_score.append(similarity)\n",
    "    total_score_avg = sum(total_score)/len(total_score)\n",
    "    if(total_score_avg<.3):\n",
    "        return True\n",
    "    else:\n",
    "        return False"
   ]
  },
  {
   "cell_type": "code",
   "execution_count": 11,
   "metadata": {},
   "outputs": [
    {
     "name": "stderr",
     "output_type": "stream",
     "text": [
      "2024-03-05 10:03:27.812720: I external/local_xla/xla/stream_executor/cuda/cuda_executor.cc:887] could not open file to read NUMA node: /sys/bus/pci/devices/0000:01:00.0/numa_node\n",
      "Your kernel may have been built without NUMA support.\n",
      "2024-03-05 10:03:27.973048: I external/local_xla/xla/stream_executor/cuda/cuda_executor.cc:887] could not open file to read NUMA node: /sys/bus/pci/devices/0000:01:00.0/numa_node\n",
      "Your kernel may have been built without NUMA support.\n",
      "2024-03-05 10:03:27.973424: I external/local_xla/xla/stream_executor/cuda/cuda_executor.cc:887] could not open file to read NUMA node: /sys/bus/pci/devices/0000:01:00.0/numa_node\n",
      "Your kernel may have been built without NUMA support.\n",
      "2024-03-05 10:03:27.975026: I external/local_xla/xla/stream_executor/cuda/cuda_executor.cc:887] could not open file to read NUMA node: /sys/bus/pci/devices/0000:01:00.0/numa_node\n",
      "Your kernel may have been built without NUMA support.\n",
      "2024-03-05 10:03:27.975332: I external/local_xla/xla/stream_executor/cuda/cuda_executor.cc:887] could not open file to read NUMA node: /sys/bus/pci/devices/0000:01:00.0/numa_node\n",
      "Your kernel may have been built without NUMA support.\n",
      "2024-03-05 10:03:27.975576: I external/local_xla/xla/stream_executor/cuda/cuda_executor.cc:887] could not open file to read NUMA node: /sys/bus/pci/devices/0000:01:00.0/numa_node\n",
      "Your kernel may have been built without NUMA support.\n",
      "2024-03-05 10:03:28.336484: I external/local_xla/xla/stream_executor/cuda/cuda_executor.cc:887] could not open file to read NUMA node: /sys/bus/pci/devices/0000:01:00.0/numa_node\n",
      "Your kernel may have been built without NUMA support.\n",
      "2024-03-05 10:03:28.336760: I external/local_xla/xla/stream_executor/cuda/cuda_executor.cc:887] could not open file to read NUMA node: /sys/bus/pci/devices/0000:01:00.0/numa_node\n",
      "Your kernel may have been built without NUMA support.\n",
      "2024-03-05 10:03:28.336774: I tensorflow/core/common_runtime/gpu/gpu_device.cc:2022] Could not identify NUMA node of platform GPU id 0, defaulting to 0.  Your kernel may not have been built with NUMA support.\n",
      "2024-03-05 10:03:28.336982: I external/local_xla/xla/stream_executor/cuda/cuda_executor.cc:887] could not open file to read NUMA node: /sys/bus/pci/devices/0000:01:00.0/numa_node\n",
      "Your kernel may have been built without NUMA support.\n",
      "2024-03-05 10:03:28.337004: I tensorflow/core/common_runtime/gpu/gpu_device.cc:1929] Created device /job:localhost/replica:0/task:0/device:GPU:0 with 2259 MB memory:  -> device: 0, name: NVIDIA GeForce GTX 1650, pci bus id: 0000:01:00.0, compute capability: 7.5\n"
     ]
    }
   ],
   "source": [
    "def record_webcame(frame_count = 1500,output_path='videos/',model=FaceNet(),registered_emb = []): \n",
    "    embedding_list = [] \n",
    "    cap = cv2.VideoCapture(0)\n",
    "    # fourcc = cv2.VideoWriter_fourcc(*'mp4v')\n",
    "    # out = cv2.VideoWriter(f'{output_path}{os.sep}Webcame_generated.mp4', fourcc, 20.0, (640, 480))\n",
    "    i = 0\n",
    "    flag = True\n",
    "    while flag:\n",
    "        ret, frame = cap.read()\n",
    "        if ret:\n",
    "            cv2.imshow('frame', frame)\n",
    "            if cv2.waitKey(1) & 0xFF == ord('q'):\n",
    "                break\n",
    "            try:\n",
    "                frame = detect_face_roi(frame)\n",
    "                frame = cv2.resize(frame,(256,256))\n",
    "                emb = extract_face_embeddings(frame,model)\n",
    "                embedding_list.append(emb)\n",
    "                i+=1\n",
    "                if(i%25==0):\n",
    "                    print('Entering modulus')\n",
    "                    if(is_user_valid(registered_emb,embedding_list)):\n",
    "                        print('valid user')\n",
    "                        flag = False\n",
    "                        break\n",
    "                    else:\n",
    "                        embedding_list = []\n",
    "                elif (i>=frame_count):\n",
    "                    flag = False\n",
    "                    break\n",
    "            except:\n",
    "                pass\n",
    "        else:\n",
    "            break\n",
    "    cap.release()\n",
    "    cv2.destroyAllWindows()"
   ]
  },
  {
   "cell_type": "code",
   "execution_count": 13,
   "metadata": {},
   "outputs": [],
   "source": [
    "model = FaceNet()\n",
    "\n",
    "registerd_user_face_embeddings = register_newuser(video_path='videos/WIN_20230219_10_59_32_Pro.mp4',output_path='images/registration_frames/',model=model)"
   ]
  },
  {
   "cell_type": "code",
   "execution_count": 14,
   "metadata": {},
   "outputs": [
    {
     "name": "stderr",
     "output_type": "stream",
     "text": [
      "[ WARN:0@117.145] global /io/opencv/modules/videoio/src/cap_v4l.cpp (902) open VIDEOIO(V4L2:/dev/video0): can't open camera by index\n"
     ]
    }
   ],
   "source": [
    "record_webcame(registered_emb=registerd_user_face_embeddings)      "
   ]
  }
 ],
 "metadata": {
  "kernelspec": {
   "display_name": "my_env",
   "language": "python",
   "name": "python3"
  },
  "language_info": {
   "codemirror_mode": {
    "name": "ipython",
    "version": 3
   },
   "file_extension": ".py",
   "mimetype": "text/x-python",
   "name": "python",
   "nbconvert_exporter": "python",
   "pygments_lexer": "ipython3",
   "version": "3.11.7"
  },
  "orig_nbformat": 4,
  "vscode": {
   "interpreter": {
    "hash": "bddb00161fb591e1e04327b5109f257b959d71455f99b9fd16a64697df3b3fae"
   }
  }
 },
 "nbformat": 4,
 "nbformat_minor": 2
}
